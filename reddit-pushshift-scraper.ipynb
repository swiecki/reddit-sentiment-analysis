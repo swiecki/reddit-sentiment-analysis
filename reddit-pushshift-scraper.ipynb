{
 "cells": [
  {
   "cell_type": "code",
   "execution_count": 5,
   "metadata": {
    "collapsed": true,
    "pycharm": {
     "is_executing": false
    }
   },
   "outputs": [],
   "source": [
    "import datetime as dt\n",
    "import pandas as pd\n",
    "from psaw import PushshiftAPI\n",
    "api = PushshiftAPI(rate_limit_per_minute=30)\n",
    "import json"
   ]
  },
  {
   "cell_type": "code",
   "execution_count": 6,
   "outputs": [],
   "source": [
    "day = 23\n",
    "\n",
    "start_epoch=int(dt.datetime(2021, 1, day).timestamp())\n",
    "end_epoch=int(dt.datetime(2021, 1, day+1).timestamp())\n",
    "gen = api.search_comments(\n",
    "    q='GME', \n",
    "    subreddit='wallstreetbets',\n",
    "    fields=['body','author','created_utc',\"permalink\",\"all_awardings\",\"score\"],\n",
    "    after=start_epoch,\n",
    "    before=end_epoch\n",
    ")\n",
    "\n",
    "max_response_cache = 1000\n",
    "cache = []\n",
    "\n",
    "for c in gen:\n",
    "    cache.append(c)\n",
    "\n",
    "    # Omit this test to actually return all results. Wouldn't recommend it though: could take a while, but you do you.\n",
    "#    if len(cache) >= max_response_cache:\n",
    "#        break\n",
    "\n",
    "# If you really want to: pick up where we left off to get the rest of the results.\n",
    "if False:\n",
    "    for c in gen:\n",
    "        cache.append(c)"
   ],
   "metadata": {
    "collapsed": false,
    "pycharm": {
     "name": "#%%\n",
     "is_executing": false
    }
   }
  },
  {
   "cell_type": "code",
   "execution_count": 7,
   "outputs": [],
   "source": [
    "import pickle\n",
    "\n",
    "full_dbase = pickle.load(open(\"full_dbase.p\",\"rb\"))\n",
    "key = '2021-1-{}'.format(day)\n",
    "full_dbase[key] = [x.d_ for x in cache]\n",
    "\n",
    "\"\"\"\n",
    "import json\n",
    "json version\n",
    "with open('gme_comments.json','r') as g:\n",
    "   full_dbase = json.load(g)\n",
    "#full_dbase = dict() #use to reset database when first loading\n",
    "\n",
    "with open('gme_comments.json','w') as g:\n",
    "    json.dump(full_dbase,g)\n",
    "\"\"\"\n",
    "#print(full_dbase)\n",
    "\n",
    "pickle.dump(full_dbase, open(\"full_dbase.p\", \"wb\" ))\n",
    "\n",
    "\n"
   ],
   "metadata": {
    "collapsed": false,
    "pycharm": {
     "name": "#%%\n",
     "is_executing": false
    }
   }
  },
  {
   "cell_type": "code",
   "execution_count": null,
   "outputs": [],
   "source": [
    "\n"
   ],
   "metadata": {
    "collapsed": false,
    "pycharm": {
     "name": "#%%\n"
    }
   }
  }
 ],
 "metadata": {
  "kernelspec": {
   "display_name": "Python 3",
   "language": "python",
   "name": "python3"
  },
  "language_info": {
   "codemirror_mode": {
    "name": "ipython",
    "version": 2
   },
   "file_extension": ".py",
   "mimetype": "text/x-python",
   "name": "python",
   "nbconvert_exporter": "python",
   "pygments_lexer": "ipython2",
   "version": "2.7.6"
  },
  "pycharm": {
   "stem_cell": {
    "cell_type": "raw",
    "source": [],
    "metadata": {
     "collapsed": false
    }
   }
  }
 },
 "nbformat": 4,
 "nbformat_minor": 0
}